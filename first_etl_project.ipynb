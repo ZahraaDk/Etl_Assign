{
 "cells": [
  {
   "cell_type": "code",
   "execution_count": 1,
   "metadata": {},
   "outputs": [],
   "source": [
    "import datetime\n",
    "import database_handler\n",
    "import lookups"
   ]
  },
  {
   "cell_type": "code",
   "execution_count": 2,
   "metadata": {},
   "outputs": [
    {
     "name": "stdout",
     "output_type": "stream",
     "text": [
      "Connection is Successful\n"
     ]
    }
   ],
   "source": [
    "db_session = database_handler.create_connection()"
   ]
  },
  {
   "cell_type": "code",
   "execution_count": 3,
   "metadata": {},
   "outputs": [],
   "source": [
    "query = \"\"\"\n",
    "    CREATE TABLE IF NOT EXISTS public.etl_index\n",
    "    (\n",
    "        etl_last_run_date TIMESTAMP\n",
    "    )\n",
    "\"\"\"\n",
    "database_handler.execute_query(query=query, db_session= db_session)"
   ]
  },
  {
   "cell_type": "code",
   "execution_count": 4,
   "metadata": {},
   "outputs": [
    {
     "name": "stdout",
     "output_type": "stream",
     "text": [
      "2006-02-14 15:16:03\n"
     ]
    },
    {
     "name": "stderr",
     "output_type": "stream",
     "text": [
      "c:\\Users\\HP i5\\Desktop\\SE_Factory\\Week 5\\My_ETL_Project\\database_handler.py:62: UserWarning: pandas only supports SQLAlchemy connectable (engine/connection) or database string URI or sqlite3 DBAPI2 connection. Other DBAPI2 objects are not tested. Please consider using SQLAlchemy.\n",
      "  df = pd.read_sql_query(sql = input_data, con = db_session)\n"
     ]
    }
   ],
   "source": [
    "\n",
    "query = \"\"\"\n",
    "    SELECT \n",
    "        etl_last_run_date\n",
    "    FROM public.etl_index\n",
    "    ORDER BY \n",
    "        etl_last_run_date DESC\n",
    "    LIMIT 1\n",
    "\"\"\"\n",
    "return_df = database_handler.return_input_as_df(input_data= query, input_type= lookups.Input_Types.SQL, db_session= db_session)\n",
    "\n",
    "if len(return_df) == 0:\n",
    "    last_etl_run = datetime.datetime(1900,1,1)\n",
    "else:\n",
    "    last_etl_run = return_df['etl_last_run_date'].iloc[0]\n",
    "\n",
    "print(last_etl_run)"
   ]
  },
  {
   "cell_type": "code",
   "execution_count": 5,
   "metadata": {},
   "outputs": [],
   "source": [
    "insert_query = f\"INSERT INTO public.etl_index (etl_last_run_date) VALUES ('{last_etl_run}')\"\n",
    "database_handler.execute_query(db_session, insert_query)"
   ]
  },
  {
   "cell_type": "code",
   "execution_count": 6,
   "metadata": {},
   "outputs": [
    {
     "name": "stderr",
     "output_type": "stream",
     "text": [
      "c:\\Users\\HP i5\\Desktop\\SE_Factory\\Week 5\\My_ETL_Project\\database_handler.py:62: UserWarning: pandas only supports SQLAlchemy connectable (engine/connection) or database string URI or sqlite3 DBAPI2 connection. Other DBAPI2 objects are not tested. Please consider using SQLAlchemy.\n",
      "  df = pd.read_sql_query(sql = input_data, con = db_session)\n"
     ]
    }
   ],
   "source": [
    "source_extract_query = f\"SELECT * FROM public.rental WHERE rental_date > '{last_etl_run}'\"\n",
    "df_rental = database_handler.return_input_as_df(input_data= source_extract_query, input_type= lookups.Input_Types.SQL, db_session= db_session)"
   ]
  },
  {
   "cell_type": "code",
   "execution_count": 7,
   "metadata": {},
   "outputs": [],
   "source": [
    "# create_schema_query = \"\"\"\n",
    "#     CREATE SCHEMA IF NOT EXISTS reportingdw;\n",
    "# \"\"\"\n",
    "# execute_query previous query\n",
    "# create_table_query = database_handler.return_create_statement_from_df(df_rental,'reportingdw', 'stg_dvd_rental')\n",
    "# execute_query previous query"
   ]
  },
  {
   "cell_type": "code",
   "execution_count": 8,
   "metadata": {},
   "outputs": [],
   "source": [
    "# we want to find out total number of rentals per customer since our last etl run\n",
    "rental_per_customer = df_rental.groupby('customer_id').size().reset_index()\n",
    "rental_per_customer.columns = ['customer_id','total_rentals']"
   ]
  },
  {
   "cell_type": "code",
   "execution_count": 9,
   "metadata": {},
   "outputs": [
    {
     "data": {
      "text/html": [
       "<div>\n",
       "<style scoped>\n",
       "    .dataframe tbody tr th:only-of-type {\n",
       "        vertical-align: middle;\n",
       "    }\n",
       "\n",
       "    .dataframe tbody tr th {\n",
       "        vertical-align: top;\n",
       "    }\n",
       "\n",
       "    .dataframe thead th {\n",
       "        text-align: right;\n",
       "    }\n",
       "</style>\n",
       "<table border=\"1\" class=\"dataframe\">\n",
       "  <thead>\n",
       "    <tr style=\"text-align: right;\">\n",
       "      <th></th>\n",
       "      <th>customer_id</th>\n",
       "      <th>total_rentals</th>\n",
       "    </tr>\n",
       "  </thead>\n",
       "  <tbody>\n",
       "  </tbody>\n",
       "</table>\n",
       "</div>"
      ],
      "text/plain": [
       "Empty DataFrame\n",
       "Columns: [customer_id, total_rentals]\n",
       "Index: []"
      ]
     },
     "execution_count": 9,
     "metadata": {},
     "output_type": "execute_result"
    }
   ],
   "source": [
    "rental_per_customer.head(1)"
   ]
  },
  {
   "cell_type": "code",
   "execution_count": 10,
   "metadata": {},
   "outputs": [],
   "source": [
    "create_table_query = database_handler.return_create_statement_from_df(rental_per_customer, 'public','customer_rental_count')\n",
    "database_handler.execute_query(db_session, create_table_query)"
   ]
  },
  {
   "cell_type": "code",
   "execution_count": 11,
   "metadata": {},
   "outputs": [],
   "source": [
    "for index, row in rental_per_customer.iterrows():\n",
    "    existing_count_query = f\"SELECT total_rentals FROM public.customer_rental_count WHERE customer_id = {row['customer_id']};\"\n",
    "    existing_query_df = database_handler.return_input_as_df(input_data= existing_count_query, input_type= lookups.Input_Types.SQL, db_session= db_session)\n",
    "    length_df = len(existing_query_df)\n",
    "    if length_df == 0:\n",
    "        insert_query = f\"INSERT INTO public.customer_rental_count (customer_id, total_rentals) VALUES ({row['customer_id']}, {row['total_rentals']})\"\n",
    "        database_handler.execute_query(db_session, insert_query)\n",
    "    else:\n",
    "        new_count = existing_query_df['total_rentals'][0] + row['total_rentals']\n",
    "        update_query = f\"UPDATE public.customer_rental_count SET total_rentals = {new_count} WHERE customer_id = {row['customer_id']};\"\n",
    "        database_handler.execute_query(db_session, update_query)\n"
   ]
  },
  {
   "cell_type": "code",
   "execution_count": 12,
   "metadata": {},
   "outputs": [
    {
     "name": "stdout",
     "output_type": "stream",
     "text": [
      "Connection is Successful\n"
     ]
    }
   ],
   "source": [
    "# update watermark\n",
    "db_session = database_handler.create_connection()\n",
    "last_rental_date = str(df_rental['rental_date'].max())\n",
    "if len(df_rental) > 0:\n",
    "    update_stmnt = f\"UPDATE public.etl_index SET etl_last_run_date = '{last_rental_date}'\"\n",
    "    database_handler.execute_query(db_session, update_stmnt)"
   ]
  },
  {
   "cell_type": "code",
   "execution_count": 13,
   "metadata": {},
   "outputs": [],
   "source": [
    "from prehook import execute_query_folder\n",
    "execute_query_folder(db_session, './Csv_Files') "
   ]
  },
  {
   "cell_type": "code",
   "execution_count": 14,
   "metadata": {},
   "outputs": [],
   "source": [
    "database_handler.close_connection(db_session)"
   ]
  }
 ],
 "metadata": {
  "kernelspec": {
   "display_name": "se_etl_env",
   "language": "python",
   "name": "python3"
  },
  "language_info": {
   "codemirror_mode": {
    "name": "ipython",
    "version": 3
   },
   "file_extension": ".py",
   "mimetype": "text/x-python",
   "name": "python",
   "nbconvert_exporter": "python",
   "pygments_lexer": "ipython3",
   "version": "3.10.9"
  },
  "orig_nbformat": 4
 },
 "nbformat": 4,
 "nbformat_minor": 2
}
