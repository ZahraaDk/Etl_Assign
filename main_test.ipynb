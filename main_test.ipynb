{
 "cells": [
  {
   "cell_type": "code",
   "execution_count": null,
   "metadata": {},
   "outputs": [],
   "source": [
    "from database_handler import create_connection, close_connection, refresh_connection, execute_query, return_query, return_input_as_df, return_create_statement_from_df, return_insert_into_sql_statement_from_df\n",
    "import pandas as pd\n",
    "db_session = create_connection()"
   ]
  },
  {
   "cell_type": "code",
   "execution_count": null,
   "metadata": {},
   "outputs": [],
   "source": [
    "url = 'https://raw.githubusercontent.com/MArnaout/Dataset/main/Dim%20Customer.csv'\n",
    "df_dim_customer = pd.read_csv(url)"
   ]
  },
  {
   "cell_type": "code",
   "execution_count": null,
   "metadata": {},
   "outputs": [],
   "source": [
    "df_dim_customer.head(2)"
   ]
  },
  {
   "cell_type": "code",
   "execution_count": null,
   "metadata": {},
   "outputs": [],
   "source": [
    "df_dim_customer.columns =  df_dim_customer.columns.str.replace(' ', '_')"
   ]
  },
  {
   "cell_type": "code",
   "execution_count": null,
   "metadata": {},
   "outputs": [],
   "source": [
    "create_table_statement = return_create_statement_from_df(df_dim_customer, 'public', 'dim_customer')\n",
    "execute_query(db_session, create_table_statement)"
   ]
  },
  {
   "cell_type": "code",
   "execution_count": null,
   "metadata": {},
   "outputs": [],
   "source": [
    "insert_sql = return_insert_into_sql_statement_from_df(df_dim_customer, 'public', 'dim_customer')\n",
    "execute_query(db_session, insert_sql)"
   ]
  },
  {
   "cell_type": "code",
   "execution_count": null,
   "metadata": {},
   "outputs": [],
   "source": [
    "url2 = 'https://raw.githubusercontent.com/MArnaout/Dataset/main/Dim%20Location.csv'\n",
    "df_dim_location = pd.read_csv(url2)"
   ]
  },
  {
   "cell_type": "code",
   "execution_count": null,
   "metadata": {},
   "outputs": [],
   "source": [
    "df_dim_location"
   ]
  },
  {
   "cell_type": "code",
   "execution_count": null,
   "metadata": {},
   "outputs": [],
   "source": [
    "df_dim_location.columns =  df_dim_location.columns.str.replace(' ', '_')"
   ]
  },
  {
   "cell_type": "code",
   "execution_count": null,
   "metadata": {},
   "outputs": [],
   "source": [
    "df_dim_location.columns"
   ]
  },
  {
   "cell_type": "code",
   "execution_count": null,
   "metadata": {},
   "outputs": [],
   "source": [
    "create_table_statement = return_create_statement_from_df(df_dim_location, 'public', 'dim_location')\n",
    "execute_query(db_session, create_table_statement)"
   ]
  },
  {
   "cell_type": "code",
   "execution_count": null,
   "metadata": {},
   "outputs": [],
   "source": [
    "insert_sql = return_insert_into_sql_statement_from_df(df_dim_location, 'public', 'dim_location')\n",
    "execute_query(db_session, insert_sql)"
   ]
  },
  {
   "cell_type": "code",
   "execution_count": null,
   "metadata": {},
   "outputs": [],
   "source": [
    "url3 = 'https://raw.githubusercontent.com/MArnaout/Dataset/main/Dim%20Product.csv'\n",
    "df_dim_product = pd.read_csv(url3)\n",
    "df_dim_product.columns =  df_dim_product.columns.str.replace(' ', '_')\n",
    "df_dim_product.columns =  df_dim_product.columns.str.replace('-', '_')"
   ]
  },
  {
   "cell_type": "code",
   "execution_count": null,
   "metadata": {},
   "outputs": [],
   "source": [
    "create_table_statement = return_create_statement_from_df(df_dim_product, 'public', 'dim_product')\n",
    "execute_query(db_session, create_table_statement)"
   ]
  },
  {
   "cell_type": "code",
   "execution_count": null,
   "metadata": {},
   "outputs": [],
   "source": [
    "df_dim_product"
   ]
  },
  {
   "cell_type": "code",
   "execution_count": null,
   "metadata": {},
   "outputs": [],
   "source": [
    "insert_sql = return_insert_into_sql_statement_from_df(df_dim_product, 'public', 'dim_product')\n",
    "execute_query(db_session, insert_sql)"
   ]
  },
  {
   "cell_type": "code",
   "execution_count": null,
   "metadata": {},
   "outputs": [],
   "source": [
    "url4 = 'https://raw.githubusercontent.com/MArnaout/Dataset/main/Dim%20SalesPerson.csv'\n",
    "df_dim_sales_person = pd.read_csv(url4)\n",
    "df_dim_sales_person.columns =  df_dim_sales_person.columns.str.replace(' ', '_')"
   ]
  },
  {
   "cell_type": "code",
   "execution_count": null,
   "metadata": {},
   "outputs": [],
   "source": [
    "df_dim_sales_person.columns"
   ]
  },
  {
   "cell_type": "code",
   "execution_count": null,
   "metadata": {},
   "outputs": [],
   "source": [
    "create_table_statement = return_create_statement_from_df(df_dim_sales_person, 'public', 'dim_sales_person')\n",
    "execute_query(db_session, create_table_statement)"
   ]
  },
  {
   "cell_type": "code",
   "execution_count": null,
   "metadata": {},
   "outputs": [],
   "source": [
    "insert_sql = return_insert_into_sql_statement_from_df(df_dim_sales_person, 'public', 'dim_sales_person')\n",
    "execute_query(db_session, insert_sql)"
   ]
  },
  {
   "cell_type": "code",
   "execution_count": null,
   "metadata": {},
   "outputs": [],
   "source": [
    "url5 = 'https://raw.githubusercontent.com/MArnaout/Dataset/main/Fact%20Purchase.csv'\n",
    "df_fact_purchase = pd.read_csv(url5)\n",
    "df_fact_purchase.columns = df_fact_purchase.columns.str.replace(' ', '_')"
   ]
  },
  {
   "cell_type": "code",
   "execution_count": null,
   "metadata": {},
   "outputs": [],
   "source": [
    "df_fact_purchase.columns"
   ]
  },
  {
   "cell_type": "code",
   "execution_count": null,
   "metadata": {},
   "outputs": [],
   "source": [
    "create_table_statement = return_create_statement_from_df(df_fact_purchase, 'public', 'fact_purchase')\n",
    "execute_query(db_session, create_table_statement)"
   ]
  },
  {
   "cell_type": "code",
   "execution_count": null,
   "metadata": {},
   "outputs": [],
   "source": [
    "insert_sql = return_insert_into_sql_statement_from_df(df_fact_purchase, 'public', 'fact_purchase')\n",
    "execute_query(db_session, insert_sql)"
   ]
  },
  {
   "cell_type": "code",
   "execution_count": null,
   "metadata": {},
   "outputs": [],
   "source": []
  }
 ],
 "metadata": {
  "kernelspec": {
   "display_name": "se_etl_env",
   "language": "python",
   "name": "python3"
  },
  "language_info": {
   "codemirror_mode": {
    "name": "ipython",
    "version": 3
   },
   "file_extension": ".py",
   "mimetype": "text/x-python",
   "name": "python",
   "nbconvert_exporter": "python",
   "pygments_lexer": "ipython3",
   "version": "3.10.9"
  },
  "orig_nbformat": 4
 },
 "nbformat": 4,
 "nbformat_minor": 2
}
